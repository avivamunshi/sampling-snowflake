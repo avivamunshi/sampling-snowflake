{
 "cells": [
  {
   "cell_type": "code",
   "execution_count": 1,
   "id": "28353950",
   "metadata": {},
   "outputs": [],
   "source": [
    "import pandas as pd"
   ]
  },
  {
   "cell_type": "code",
   "execution_count": 2,
   "id": "4056e92a",
   "metadata": {},
   "outputs": [],
   "source": [
    "df=pd.read_csv(\"/Users/aviva/Desktop/MSDS/quarter_4/Scalable Data Systems/Project/snowflake_input_data.csv\")"
   ]
  },
  {
   "cell_type": "code",
   "execution_count": 3,
   "id": "0b79432c",
   "metadata": {},
   "outputs": [],
   "source": [
    "continent_to_country = {\n",
    "    'Africa': ['Algeria', 'Nigeria', 'South Africa', 'Egypt', 'Kenya', 'Ethiopia', 'Morocco', 'Ghana', 'Tanzania', 'Sudan', 'Angola', 'Uganda', 'Mozambique', 'Madagascar', 'Cameroon', 'Côte d\\'Ivoire', 'Niger', 'Burkina Faso', 'Mali', 'Malawi', 'Zambia', 'Senegal', 'Chad', 'Somalia', 'Zimbabwe', 'Rwanda', 'Guinea', 'Benin', 'Burundi', 'Tunisia', 'South Sudan', 'Eswatini', 'Sierra Leone', 'Togo', 'Libya', 'Lesotho', 'Djibouti', 'Equatorial Guinea', 'Mauritania', 'Gambia', 'Gabon', 'Guinea-Bissau', 'Comoros', 'Botswana', 'Cabo Verde', 'Mauritius', 'São Tomé and Príncipe', 'Seychelles'],\n",
    "    'Asia': ['China', 'India', 'Indonesia', 'Pakistan', 'Bangladesh', 'Japan', 'Philippines', 'Vietnam', 'Turkey', 'Iran', 'Thailand', 'Myanmar', 'South Korea', 'Iraq', 'Afghanistan', 'Saudi Arabia', 'Uzbekistan', 'Malaysia', 'Yemen', 'Nepal', 'North Korea', 'Sri Lanka', 'Kazakhstan', 'Syria', 'Cambodia', 'Jordan', 'Azerbaijan', 'United Arab Emirates', 'Tajikistan', 'Israel', 'Laos', 'Lebanon', 'Kyrgyzstan', 'Turkmenistan', 'Singapore', 'Oman', 'State of Palestine', 'Kuwait', 'Georgia', 'Mongolia', 'Armenia', 'Qatar', 'Bahrain', 'Timor-Leste', 'Cyprus', 'Bhutan', 'Maldives', 'Brunei'],\n",
    "    'Europe': ['Russia', 'Germany', 'United Kingdom', 'France', 'Italy', 'Spain', 'Ukraine', 'Poland', 'Romania', 'Netherlands', 'Belgium', 'Czech Republic', 'Greece', 'Portugal', 'Sweden', 'Hungary', 'Belarus', 'Austria', 'Switzerland', 'Bulgaria', 'Serbia', 'Denmark', 'Finland', 'Slovakia', 'Norway', 'Ireland', 'Croatia', 'Bosnia and Herzegovina', 'Moldova', 'Albania', 'Lithuania', 'North Macedonia', 'Slovenia', 'Latvia', 'Estonia', 'Montenegro', 'Luxembourg', 'Malta', 'Iceland', 'Andorra', 'Monaco', 'Liechtenstein', 'San Marino', 'Holy See'],\n",
    "    'North America': ['United States', 'Canada', 'Mexico', 'Cuba', 'Guatemala', 'Haiti', 'Dominican Republic', 'Honduras', 'Nicaragua', 'El Salvador', 'Costa Rica', 'Panama', 'Jamaica', 'Trinidad and Tobago', 'The Bahamas', 'Barbados', 'Saint Lucia', 'Curaçao', 'Saint Vincent and the Grenadines', 'Grenada', 'Antigua and Barbuda', 'Dominica', 'Saint Kitts and Nevis', 'Belize', 'Saint Martin', 'Guadeloupe', 'Aruba', 'Sint Maarten', 'Saint Barthélemy', 'Turks and Caicos Islands', 'British Virgin Islands', 'Caribbean Netherlands', 'Anguilla', 'Saint Pierre and Miquelon', 'Montserrat', 'Martinique', 'Saint Helena, Ascension and Tristan da Cunha', 'Bermuda', 'Cayman Islands', 'Greenland', 'Puerto Rico', 'U.S. Virgin Islands'],\n",
    "    'South America': ['Brazil', 'Colombia', 'Argentina', 'Peru', 'Venezuela', 'Chile', 'Ecuador', 'Bolivia', 'Paraguay', 'Uruguay', 'Guyana', 'Suriname', 'French Guiana', 'Falkland Islands'],\n",
    "    'Australia/Oceania': ['Australia', 'Papua New Guinea', 'New Zealand', 'Fiji', 'Solomon Islands', 'Vanuatu', 'Samoa', 'Kiribati', 'Micronesia', 'Tonga', 'Marshall Islands', 'Palau', 'Tuvalu', 'Nauru']\n",
    "}"
   ]
  },
  {
   "cell_type": "code",
   "execution_count": 4,
   "id": "32b25c9f",
   "metadata": {},
   "outputs": [],
   "source": [
    "def map_country_to_continent(country):\n",
    "    for continent, countries in continent_to_country.items():\n",
    "        if country in countries:\n",
    "            return continent\n",
    "    return 'Other' \n",
    "\n",
    "df['Continent'] = df['Country Name'].apply(map_country_to_continent)"
   ]
  },
  {
   "cell_type": "code",
   "execution_count": 7,
   "id": "1013362e",
   "metadata": {},
   "outputs": [
    {
     "data": {
      "text/plain": [
       "array(['North America', 'Other', 'Asia', 'Africa', 'Europe',\n",
       "       'South America', 'Australia/Oceania'], dtype=object)"
      ]
     },
     "execution_count": 7,
     "metadata": {},
     "output_type": "execute_result"
    }
   ],
   "source": [
    "df['Continent'].unique()"
   ]
  },
  {
   "cell_type": "code",
   "execution_count": 8,
   "id": "e74beab3",
   "metadata": {
    "scrolled": true
   },
   "outputs": [
    {
     "name": "stdout",
     "output_type": "stream",
     "text": [
      "1477      Africa Eastern and Southern\n",
      "1478      Africa Eastern and Southern\n",
      "1479      Africa Eastern and Southern\n",
      "1480      Africa Eastern and Southern\n",
      "1481      Africa Eastern and Southern\n",
      "                     ...             \n",
      "388446                     Yemen Rep.\n",
      "388447                     Yemen Rep.\n",
      "388448                     Yemen Rep.\n",
      "388449                     Yemen Rep.\n",
      "388450                     Yemen Rep.\n",
      "Name: Country Name, Length: 140315, dtype: object\n"
     ]
    }
   ],
   "source": [
    "other_countries = df[df['Continent'] == 'Other']['Country Name']\n",
    "print(other_countries)"
   ]
  },
  {
   "cell_type": "code",
   "execution_count": 11,
   "id": "8d56da59",
   "metadata": {},
   "outputs": [
    {
     "data": {
      "text/plain": [
       "Index(['Country Code', 'Country Name', 'Indicator Code', 'Indicator Name',\n",
       "       'Debt', 'Continent'],\n",
       "      dtype='object')"
      ]
     },
     "execution_count": 11,
     "metadata": {},
     "output_type": "execute_result"
    }
   ],
   "source": [
    "df.columns"
   ]
  },
  {
   "cell_type": "code",
   "execution_count": 9,
   "id": "c98bcd90",
   "metadata": {},
   "outputs": [],
   "source": [
    "df.to_csv('/Users/aviva/Desktop/MSDS/quarter_4/Scalable Data Systems/Project/snowflake_continent_dataset.csv', index=False)"
   ]
  }
 ],
 "metadata": {
  "kernelspec": {
   "display_name": "Python 3 (ipykernel)",
   "language": "python",
   "name": "python3"
  },
  "language_info": {
   "codemirror_mode": {
    "name": "ipython",
    "version": 3
   },
   "file_extension": ".py",
   "mimetype": "text/x-python",
   "name": "python",
   "nbconvert_exporter": "python",
   "pygments_lexer": "ipython3",
   "version": "3.9.12"
  }
 },
 "nbformat": 4,
 "nbformat_minor": 5
}
