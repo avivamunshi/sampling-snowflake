{
 "cells": [
  {
   "cell_type": "code",
   "execution_count": 5,
   "id": "01ca0cd6",
   "metadata": {},
   "outputs": [],
   "source": [
    "import pandas as pd\n",
    "import numpy as np\n",
    "import matplotlib.pyplot as plt "
   ]
  },
  {
   "cell_type": "markdown",
   "id": "70c75c68",
   "metadata": {},
   "source": [
    "## Aggregation Runtimes Visualization"
   ]
  },
  {
   "cell_type": "code",
   "execution_count": 24,
   "id": "89c3c012",
   "metadata": {},
   "outputs": [
    {
     "data": {
      "text/html": [
       "<div>\n",
       "<style scoped>\n",
       "    .dataframe tbody tr th:only-of-type {\n",
       "        vertical-align: middle;\n",
       "    }\n",
       "\n",
       "    .dataframe tbody tr th {\n",
       "        vertical-align: top;\n",
       "    }\n",
       "\n",
       "    .dataframe thead th {\n",
       "        text-align: right;\n",
       "    }\n",
       "</style>\n",
       "<table border=\"1\" class=\"dataframe\">\n",
       "  <thead>\n",
       "    <tr style=\"text-align: right;\">\n",
       "      <th></th>\n",
       "      <th>sampling_type</th>\n",
       "      <th>Average_Query1_Runtime ms</th>\n",
       "      <th>Average_Query2_Runtime ms</th>\n",
       "      <th>Average_Query3_Runtime ms</th>\n",
       "    </tr>\n",
       "  </thead>\n",
       "  <tbody>\n",
       "    <tr>\n",
       "      <th>0</th>\n",
       "      <td>Without Sampling</td>\n",
       "      <td>72</td>\n",
       "      <td>23.5</td>\n",
       "      <td>16.5</td>\n",
       "    </tr>\n",
       "    <tr>\n",
       "      <th>1</th>\n",
       "      <td>Simple Random Sampling</td>\n",
       "      <td>1408</td>\n",
       "      <td>19.5</td>\n",
       "      <td>105.5</td>\n",
       "    </tr>\n",
       "    <tr>\n",
       "      <th>2</th>\n",
       "      <td>Stratified Sampling</td>\n",
       "      <td>559</td>\n",
       "      <td>346.5</td>\n",
       "      <td>55.0</td>\n",
       "    </tr>\n",
       "    <tr>\n",
       "      <th>3</th>\n",
       "      <td>Systematic Sampling</td>\n",
       "      <td>20</td>\n",
       "      <td>30.0</td>\n",
       "      <td>20.5</td>\n",
       "    </tr>\n",
       "  </tbody>\n",
       "</table>\n",
       "</div>"
      ],
      "text/plain": [
       "            sampling_type  Average_Query1_Runtime ms  \\\n",
       "0        Without Sampling                         72   \n",
       "1  Simple Random Sampling                       1408   \n",
       "2     Stratified Sampling                        559   \n",
       "3     Systematic Sampling                         20   \n",
       "\n",
       "   Average_Query2_Runtime ms  Average_Query3_Runtime ms  \n",
       "0                       23.5                       16.5  \n",
       "1                       19.5                      105.5  \n",
       "2                      346.5                       55.0  \n",
       "3                       30.0                       20.5  "
      ]
     },
     "execution_count": 24,
     "metadata": {},
     "output_type": "execute_result"
    }
   ],
   "source": [
    "df_group = pd.read_csv('/Users/aviva/agg-runtimes.csv') \n",
    "df_group.head()"
   ]
  },
  {
   "cell_type": "code",
   "execution_count": 25,
   "id": "3994b5be",
   "metadata": {},
   "outputs": [
    {
     "data": {
      "text/plain": [
       "Index(['sampling_type', 'Average_Query1_Runtime ms',\n",
       "       'Average_Query2_Runtime ms', 'Average_Query3_Runtime ms'],\n",
       "      dtype='object')"
      ]
     },
     "execution_count": 25,
     "metadata": {},
     "output_type": "execute_result"
    }
   ],
   "source": [
    "columns_to_convert = ['Average_Query1_Runtime ms', 'Average_Query2_Runtime ms', 'Average_Query3_Runtime ms']  \n",
    "df_group[columns_to_convert] = df_group[columns_to_convert].astype(float)\n",
    "df_group.columns"
   ]
  },
  {
   "cell_type": "code",
   "execution_count": 26,
   "id": "8b535395",
   "metadata": {},
   "outputs": [
    {
     "data": {
      "text/plain": [
       "[72.0, 23.5, 16.5]"
      ]
     },
     "execution_count": 26,
     "metadata": {},
     "output_type": "execute_result"
    }
   ],
   "source": [
    "df_group[df_group['sampling_type'] == 'Without Sampling'].iloc[0, 1:].tolist()"
   ]
  },
  {
   "cell_type": "code",
   "execution_count": 27,
   "id": "d2829c95",
   "metadata": {},
   "outputs": [],
   "source": [
    "barWidth = 0.25\n",
    "\n",
    "no_sampl = df_group[df_group['sampling_type'] == 'Without Sampling'].iloc[0, 1:].tolist()\n",
    "srsampl = df_group[df_group['sampling_type'] == 'Simple Random Sampling'].iloc[0, 1:].tolist() \n",
    "stratified_sampl = df_group[df_group['sampling_type'] == 'Stratified Sampling'].iloc[0, 1:].tolist()\n",
    "system_sampl = df_group[df_group['sampling_type'] == 'Systematic Sampling'].iloc[0, 1:].tolist()\n",
    "\n",
    "br1 = np.arange(len(srsampl)) \n",
    "br2 = [x + barWidth for x in br1] \n",
    "br3 = [x + barWidth for x in br2] \n",
    "br4 = [x + barWidth for x in br3] "
   ]
  },
  {
   "cell_type": "code",
   "execution_count": 28,
   "id": "13b4a972",
   "metadata": {},
   "outputs": [
    {
     "data": {
      "image/png": "[encoded data removed]",
      "text/plain": [
       "<Figure size 864x576 with 1 Axes>"
      ]
     },
     "metadata": {
      "needs_background": "light"
     },
     "output_type": "display_data"
    }
   ],
   "source": [
    "fig = plt.subplots(figsize=(12, 8))\n",
    "\n",
    "plt.bar(br1, no_sampl, color='g', width=barWidth, edgecolor='grey', label='Without Sampling')\n",
    "plt.bar(br2, srsampl, color='c', width=barWidth, edgecolor='grey', label='Simple Random Sampling')\n",
    "plt.bar(br3, stratified_sampl, color='m', width=barWidth, edgecolor='grey', label='Stratified Sampling')\n",
    "plt.bar(br4, system_sampl, color='y', width=barWidth, edgecolor='grey', label='Systematic Sampling')\n",
    "\n",
    "plt.xlabel('Query types', fontweight='bold', fontsize=15)\n",
    "plt.ylabel('Average Runtime ms', fontweight='bold', fontsize=15)\n",
    "plt.xticks([r + barWidth for r in range(len(srsampl))], ['Average_Query1', 'Average_Query2', 'Average_Query3'])\n",
    "\n",
    "plt.legend()\n",
    "plt.yscale('log') \n",
    "plt.title('Aggregation Sampling Results')  \n",
    "plt.savefig('result_aggregation.svg')\n",
    "plt.show()"
   ]
  },
  {
   "cell_type": "markdown",
   "id": "10ab922b",
   "metadata": {},
   "source": [
    "## Join Runtimes Visualization"
   ]
  },
  {
   "cell_type": "code",
   "execution_count": 6,
   "id": "89a8617e",
   "metadata": {},
   "outputs": [
    {
     "data": {
      "text/html": [
       "<div>\n",
       "<style scoped>\n",
       "    .dataframe tbody tr th:only-of-type {\n",
       "        vertical-align: middle;\n",
       "    }\n",
       "\n",
       "    .dataframe tbody tr th {\n",
       "        vertical-align: top;\n",
       "    }\n",
       "\n",
       "    .dataframe thead th {\n",
       "        text-align: right;\n",
       "    }\n",
       "</style>\n",
       "<table border=\"1\" class=\"dataframe\">\n",
       "  <thead>\n",
       "    <tr style=\"text-align: right;\">\n",
       "      <th></th>\n",
       "      <th>sampling_type</th>\n",
       "      <th>Average_Query1_Runtime ms</th>\n",
       "      <th>Average_Query2_Runtime ms</th>\n",
       "      <th>Average_Query3_Runtime ms</th>\n",
       "    </tr>\n",
       "  </thead>\n",
       "  <tbody>\n",
       "    <tr>\n",
       "      <th>0</th>\n",
       "      <td>Without Sampling</td>\n",
       "      <td>19.5</td>\n",
       "      <td>25.2</td>\n",
       "      <td>31.0</td>\n",
       "    </tr>\n",
       "    <tr>\n",
       "      <th>1</th>\n",
       "      <td>Simple Random Sampling</td>\n",
       "      <td>635.5</td>\n",
       "      <td>242.5</td>\n",
       "      <td>260.5</td>\n",
       "    </tr>\n",
       "    <tr>\n",
       "      <th>2</th>\n",
       "      <td>Stratified Sampling</td>\n",
       "      <td>434.0</td>\n",
       "      <td>408.5</td>\n",
       "      <td>12236.5</td>\n",
       "    </tr>\n",
       "    <tr>\n",
       "      <th>3</th>\n",
       "      <td>Systematic Sampling</td>\n",
       "      <td>34.5</td>\n",
       "      <td>31.0</td>\n",
       "      <td>68.0</td>\n",
       "    </tr>\n",
       "  </tbody>\n",
       "</table>\n",
       "</div>"
      ],
      "text/plain": [
       "            sampling_type  Average_Query1_Runtime ms  \\\n",
       "0        Without Sampling                       19.5   \n",
       "1  Simple Random Sampling                      635.5   \n",
       "2     Stratified Sampling                      434.0   \n",
       "3     Systematic Sampling                       34.5   \n",
       "\n",
       "   Average_Query2_Runtime ms  Average_Query3_Runtime ms  \n",
       "0                       25.2                       31.0  \n",
       "1                      242.5                      260.5  \n",
       "2                      408.5                    12236.5  \n",
       "3                       31.0                       68.0  "
      ]
     },
     "execution_count": 6,
     "metadata": {},
     "output_type": "execute_result"
    }
   ],
   "source": [
    "df_join = pd.read_csv('/Users/aviva/Downloads/join-runtimes.csv') \n",
    "df_join.head()"
   ]
  },
  {
   "cell_type": "code",
   "execution_count": 7,
   "id": "ef56596f",
   "metadata": {},
   "outputs": [
    {
     "data": {
      "text/plain": [
       "Index(['sampling_type', 'Average_Query1_Runtime ms',\n",
       "       'Average_Query2_Runtime ms', 'Average_Query3_Runtime ms'],\n",
       "      dtype='object')"
      ]
     },
     "execution_count": 7,
     "metadata": {},
     "output_type": "execute_result"
    }
   ],
   "source": [
    "columns_to_convert = ['Average_Query1_Runtime ms', 'Average_Query2_Runtime ms', 'Average_Query3_Runtime ms']  \n",
    "df_join[columns_to_convert] = df_join[columns_to_convert].astype(float)\n",
    "df_join.columns"
   ]
  },
  {
   "cell_type": "code",
   "execution_count": 8,
   "id": "639fe303",
   "metadata": {},
   "outputs": [
    {
     "data": {
      "text/plain": [
       "[19.5, 25.2, 31.0]"
      ]
     },
     "execution_count": 8,
     "metadata": {},
     "output_type": "execute_result"
    }
   ],
   "source": [
    "df_join[df_join['sampling_type'] == 'Without Sampling'].iloc[0, 1:].tolist()"
   ]
  },
  {
   "cell_type": "code",
   "execution_count": 14,
   "id": "4e55c7dd",
   "metadata": {},
   "outputs": [],
   "source": [
    "barWidth = 0.25\n",
    "\n",
    "no_sampl = df_join[df_join['sampling_type'] == 'Without Sampling'].iloc[0, 1:].tolist()\n",
    "srsampl = df_join[df_join['sampling_type'] == 'Simple Random Sampling'].iloc[0, 1:].tolist() \n",
    "stratified_sampl = df_join[df_join['sampling_type'] == 'Stratified Sampling'].iloc[0, 1:].tolist()\n",
    "system_sampl = df_join[df_join['sampling_type'] == 'Systematic Sampling'].iloc[0, 1:].tolist()\n",
    "\n",
    "br1 = np.arange(len(srsampl)) \n",
    "br2 = [x + barWidth for x in br1] \n",
    "br3 = [x + barWidth for x in br2] \n",
    "br4 = [x + barWidth for x in br3] "
   ]
  },
  {
   "cell_type": "code",
   "execution_count": 11,
   "id": "52f10fc2",
   "metadata": {},
   "outputs": [
    {
     "data": {
      "image/png": "[encoded data removed]",
      "text/plain": [
       "<Figure size 864x576 with 1 Axes>"
      ]
     },
     "metadata": {
      "needs_background": "light"
     },
     "output_type": "display_data"
    }
   ],
   "source": [
    "fig = plt.subplots(figsize=(12, 8))\n",
    "\n",
    "plt.bar(br1, no_sampl, color='g', width=barWidth, edgecolor='grey', label='Without Sampling')\n",
    "plt.bar(br2, srsampl, color='c', width=barWidth, edgecolor='grey', label='Simple Random Sampling')\n",
    "plt.bar(br3, stratified_sampl, color='m', width=barWidth, edgecolor='grey', label='Stratified Sampling')\n",
    "plt.bar(br4, system_sampl, color='y', width=barWidth, edgecolor='grey', label='Systematic Sampling')\n",
    "\n",
    "plt.xlabel('Query types', fontweight='bold', fontsize=15)\n",
    "plt.ylabel('Average Runtime ms', fontweight='bold', fontsize=15)\n",
    "plt.xticks([r + barWidth for r in range(len(srsampl))], ['Average_Query1', 'Average_Query2', 'Average_Query3'])\n",
    "\n",
    "plt.legend()\n",
    "plt.yscale('log') \n",
    "plt.title('Join Sampling Results')  \n",
    "plt.savefig('result_join.svg')\n",
    "plt.show()"
   ]
  }
 ],
 "metadata": {
  "kernelspec": {
   "display_name": "Python 3 (ipykernel)",
   "language": "python",
   "name": "python3"
  },
  "language_info": {
   "codemirror_mode": {
    "name": "ipython",
    "version": 3
   },
   "file_extension": ".py",
   "mimetype": "text/x-python",
   "name": "python",
   "nbconvert_exporter": "python",
   "pygments_lexer": "ipython3",
   "version": "3.9.12"
  }
 },
 "nbformat": 4,
 "nbformat_minor": 5
}
